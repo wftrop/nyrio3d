{
 "cells": [
  {
   "cell_type": "code",
   "execution_count": 168,
   "id": "351a3a76",
   "metadata": {},
   "outputs": [],
   "source": [
    "from gcodeparser import GcodeParser\n",
    "import math \n",
    "import matplotlib.pyplot as plt"
   ]
  },
  {
   "cell_type": "code",
   "execution_count": 345,
   "id": "b438cde9",
   "metadata": {},
   "outputs": [],
   "source": [
    "def distance(A,B):\n",
    "    (xA , yA , zA , fA, eA) = A\n",
    "    (xB , yB , zB , fB, eB) = B\n",
    "    return math.sqrt((xA-xB)**2 + (yB-yA)**2)"
   ]
  },
  {
   "cell_type": "code",
   "execution_count": 346,
   "id": "15750111",
   "metadata": {},
   "outputs": [],
   "source": [
    "def droite(A,B):\n",
    "    (xA , yA , zA , fA, eA) = A\n",
    "    (xB , yB , zB , fB, eB) = B\n",
    "    if xA == xB:\n",
    "        return (1 , 0 , -xA)\n",
    "    a = - (yB - yA)/(xB - xA)\n",
    "    c = -a*xA - yA\n",
    "    return (a , 1 , c)"
   ]
  },
  {
   "cell_type": "code",
   "execution_count": 347,
   "id": "ce3134f7",
   "metadata": {},
   "outputs": [],
   "source": [
    "def appartien( droite , point , precision):\n",
    "    (a , b , c ) = droite\n",
    "    (xA , yA , zA , fA , eA ) = point\n",
    "    return abs(a*xA + b*yA + c) <= precision"
   ]
  },
  {
   "cell_type": "code",
   "execution_count": 389,
   "id": "5fbd6f48",
   "metadata": {},
   "outputs": [],
   "source": [
    "def reducepoints(points,precision, distanceMinimale):\n",
    "    nPoints = list()\n",
    "    nPoints.append(points[0])\n",
    "    for i in range(1,len(points)-1):\n",
    "        if(distance(nPoints[-1],points[i])>distanceMinimale):\n",
    "            nPoints.append(points[i])\n",
    "        else:\n",
    "            if points[i-1][0] == points[i][0] and points[i-1][1] == points[i][1] and points[i-1][2] == points[i][2]:\n",
    "                continue #si coordonnées de i et i-1 sont les mêmes on passe au suivant\n",
    "\n",
    "            (a , b , c) = droite( points[i-1], points[i])\n",
    "            if appartien((a , b , c), points[i+1],precision):\n",
    "                if points[i+1]==points[-1]:\n",
    "                    nPoints.append(points[-1])\n",
    "                continue #si la droite de i et i-1 et le point i+1 appartient à la meme droite on continue\n",
    "            else :\n",
    "                if points[i+1]==points[-1]:\n",
    "                    nPoints.append(points[-1])\n",
    "                    nPoints.append(points[i])\n",
    "                else : \n",
    "                    nPoints.append(points[i])\n",
    "            \n",
    "    return nPoints"
   ]
  },
  {
   "cell_type": "code",
   "execution_count": 390,
   "id": "f708b1e3",
   "metadata": {},
   "outputs": [],
   "source": [
    "def gcodetri(X):\n",
    "    for i in range (len (X)):\n",
    "        X[i]=X[i].gcode_str\n",
    "        X[i]=X[i].split( )\n",
    "        G,t=X[i],0\n",
    "        for j in range (len (X[i])):\n",
    "            if (t==1):\n",
    "                G.remove(G[l])\n",
    "            elif(G[j]==\";\"):\n",
    "                G.remove(G[j])\n",
    "                t=1\n",
    "                l=j\n",
    "    return (X)"
   ]
  },
  {
   "cell_type": "code",
   "execution_count": 391,
   "id": "b4401811",
   "metadata": {},
   "outputs": [],
   "source": [
    "def MVT(ligne):\n",
    "    X,Y,Z,F,E=-1,-1,-1,-1,-1\n",
    "    if ligne[0]==\"G1\" or ligne[0]==\"G0\":\n",
    "        for j in range (len(ligne)-1):\n",
    "            coord=ligne[j+1]\n",
    "            if coord[0]==\"X\":\n",
    "                X= float(coord.lstrip(coord[0]))\n",
    "            elif coord[0]==\"Y\":\n",
    "                Y= float(coord.lstrip(coord[0]))\n",
    "            elif coord[0]==\"Z\":\n",
    "                Z= float(coord.lstrip(coord[0]))\n",
    "            elif coord[0]==\"F\":\n",
    "                F= float(coord.lstrip(coord[0]))\n",
    "            elif coord[0]==\"E\":\n",
    "                E= float(coord.lstrip(coord[0]))\n",
    "        \n",
    "        return(X,Y,Z,F,E)\n",
    "    elif ligne[0]==\"G28\":\n",
    "        X=float(0)\n",
    "        Y=float(0)\n",
    "        Z=float(0)\n",
    "        F=float(1200)\n",
    "        E=float(0)\n",
    "        return(X,Y,Z,F,E)"
   ]
  },
  {
   "cell_type": "code",
   "execution_count": 392,
   "id": "f4f9aeaa",
   "metadata": {},
   "outputs": [],
   "source": [
    "def remplacement(T):\n",
    "    for i in range(len(T)):\n",
    "        if T[i]==-1:\n",
    "            T[i]=T[i-1]\n",
    "    return(T)"
   ]
  },
  {
   "cell_type": "code",
   "execution_count": 393,
   "id": "a1a74044",
   "metadata": {},
   "outputs": [],
   "source": [
    "# open gcode file and store contents as variable\n",
    "with open('C://Users//aurel//Downloads//fichier cube gcode//aa//a//cube.gcode', 'r') as f:  \n",
    "  gcode = f.read()\n",
    "List,X,Y,Z,E,F=[],[],[],[],[],[]\n",
    "Gcode=GcodeParser(gcode).lines# get parsed gcode link\n",
    "Gcode=gcodetri(Gcode)\n",
    "\n",
    "#for i in range (len(Gcode)):\n",
    "for i in range (155,185):\n",
    "    Val=MVT(Gcode[i])\n",
    "    List.append(Val)"
   ]
  },
  {
   "cell_type": "code",
   "execution_count": 394,
   "id": "6183df29",
   "metadata": {},
   "outputs": [],
   "source": [
    "for i in range(len(List)):\n",
    "    if List[i]!=None:\n",
    "        Temp=List[i]\n",
    "        X.append(Temp[0])\n",
    "        Y.append(Temp[1])\n",
    "        Z.append(Temp[2])\n",
    "        F.append(Temp[3])\n",
    "        E.append(Temp[4])"
   ]
  },
  {
   "cell_type": "code",
   "execution_count": 395,
   "id": "127d0daf",
   "metadata": {},
   "outputs": [],
   "source": [
    "X=remplacement(X)\n",
    "Y=remplacement(Y)\n",
    "Z=remplacement(Z)\n",
    "F=remplacement(F)\n",
    "E=remplacement(E)\n"
   ]
  },
  {
   "cell_type": "code",
   "execution_count": 396,
   "id": "e8eb5f45",
   "metadata": {
    "scrolled": true
   },
   "outputs": [
    {
     "name": "stdout",
     "output_type": "stream",
     "text": [
      "voici X= [112.31, 112.123, 111.899, 111.644, 111.364, 111.07, 110.8, 109.2, 108.854, 108.777, 108.551, 108.279, 108.033, 107.872, 107.818, 107.8, 107.8, 107.833, 107.904, 108.011, 108.152, 108.324, 108.52, 108.736, 108.964, 109.2, 110.8, 111.103, 111.329, 111.539]\n",
      "voici Y= [108.223, 107.981, 107.776, 107.611, 107.492, 107.421, 107.4, 107.4, 107.435, 107.451, 107.522, 107.655, 107.831, 107.994, 108.049, 109.2, 110.8, 111.103, 111.329, 111.539, 111.729, 111.892, 112.024, 112.121, 112.18, 112.2, 112.2, 112.167, 112.096, 111.989]\n",
      "voici Z= [-1, -1, -1, -1, -1, -1, -1, -1, -1, -1, -1, -1, -1, -1, -1, -1, -1, -1, -1, -1, -1, -1, -1, -1, -1, -1, -1, -1, -1, -1]\n",
      "voici F= [-1, -1, -1, -1, -1, -1, -1, -1, -1, -1, -1, -1, -1, -1, 7200.0, 7200.0, 1200.0, 1200.0, 1200.0, 1200.0, 1200.0, 1200.0, 1200.0, 1200.0, 1200.0, 1200.0, 1200.0, 1200.0, 1200.0, 1200.0]\n",
      "30 30 30\n"
     ]
    }
   ],
   "source": [
    "\n",
    "print(\"voici X=\", X)\n",
    "print(\"voici Y=\", Y)\n",
    "print(\"voici Z=\", Z)\n",
    "print(\"voici F=\", F)\n",
    "\n",
    "print(len(X),len(Y),len(Z))"
   ]
  },
  {
   "cell_type": "code",
   "execution_count": 398,
   "id": "c79c3baf",
   "metadata": {
    "scrolled": true
   },
   "outputs": [
    {
     "name": "stdout",
     "output_type": "stream",
     "text": [
      "[(112.31, 108.223, -1, 2.582128, -1), (112.123, 107.981, -1, 2.596369, -1), (111.899, 107.776, -1, 2.610508, -1), (111.644, 107.611, -1, 2.624651, -1), (111.364, 107.492, -1, 2.638818, -1), (111.07, 107.421, -1, 2.652901, -1), (110.8, 107.4, -1, 2.665511, -1), (109.2, 107.4, -1, 2.740014, -1), (108.854, 107.435, -1, 2.756207, -1), (108.777, 107.451, -1, 2.759869, -1), (108.551, 107.522, -1, 2.7709, -1), (108.279, 107.655, -1, 2.784998, -1), (108.033, 107.831, -1, 2.799083, -1), (107.872, 107.994, -1, 2.809776, -1), (107.818, 108.049, -1, 2.809776, 7200.0), (107.8, 109.2, -1, 2.809776, 7200.0), (107.8, 110.8, -1, 2.884279, 1200.0), (107.833, 111.103, -1, 2.898471, 1200.0), (107.904, 111.329, -1, 2.909502, 1200.0), (108.011, 111.539, -1, 2.920476, 1200.0), (108.152, 111.729, -1, 2.931493, 1200.0), (108.324, 111.892, -1, 2.942528, 1200.0), (108.52, 112.024, -1, 2.953531, 1200.0), (108.736, 112.121, -1, 2.964557, 1200.0), (108.964, 112.18, -1, 2.975523, 1200.0), (109.2, 112.2, -1, 2.986551, 1200.0), (110.8, 112.2, -1, 3.061054, 1200.0), (111.103, 112.167, -1, 3.075246, 1200.0), (111.329, 112.096, -1, 3.086277, 1200.0), (111.539, 111.989, -1, 3.097252, 1200.0)]\n",
      "30\n"
     ]
    }
   ],
   "source": [
    "points = [(X[i],Y[i],Z[i],E[i],F[i]) for i in range(len(X))]\n",
    "print(points)\n",
    "print(len(points))"
   ]
  },
  {
   "cell_type": "code",
   "execution_count": 405,
   "id": "2ef5ceda",
   "metadata": {},
   "outputs": [
    {
     "name": "stdout",
     "output_type": "stream",
     "text": [
      "[(112.31, 108.223, -1, 2.582128, -1), (111.364, 107.492, -1, 2.638818, -1), (110.8, 107.4, -1, 2.665511, -1), (109.2, 107.4, -1, 2.740014, -1), (108.033, 107.831, -1, 2.799083, -1), (107.818, 108.049, -1, 2.809776, 7200.0), (107.8, 109.2, -1, 2.809776, 7200.0), (107.8, 110.8, -1, 2.884279, 1200.0), (107.833, 111.103, -1, 2.898471, 1200.0), (107.904, 111.329, -1, 2.909502, 1200.0), (108.736, 112.121, -1, 2.964557, 1200.0), (109.2, 112.2, -1, 2.986551, 1200.0), (110.8, 112.2, -1, 3.061054, 1200.0), (111.539, 111.989, -1, 3.097252, 1200.0)]\n",
      "14\n"
     ]
    },
    {
     "data": {
      "text/plain": [
       "[<matplotlib.lines.Line2D at 0x27ef5c6ac70>]"
      ]
     },
     "execution_count": 405,
     "metadata": {},
     "output_type": "execute_result"
    },
    {
     "data": {
      "image/png": "[encoded data removed]",
      "text/plain": [
       "<Figure size 640x480 with 1 Axes>"
      ]
     },
     "metadata": {},
     "output_type": "display_data"
    }
   ],
   "source": [
    "pp = reducepoints(points,0.1,1)\n",
    "print(pp)\n",
    "print(len(pp))\n",
    "x1=[i[0] for i in pp]\n",
    "y1=[i[1] for i in pp]\n",
    "z1=[i[2] for i in pp]\n",
    "f1=[i[3] for i in pp]\n",
    "e1=[i[4] for i in pp]\n",
    "\n",
    "\n",
    "\n",
    "plt.plot(X, Y, 'rx')\n",
    "plt.plot(x1, y1, 'b.')"
   ]
  },
  {
   "cell_type": "code",
   "execution_count": null,
   "id": "6e271d80",
   "metadata": {},
   "outputs": [],
   "source": []
  },
  {
   "cell_type": "code",
   "execution_count": null,
   "id": "0798cc13",
   "metadata": {},
   "outputs": [],
   "source": []
  },
  {
   "cell_type": "code",
   "execution_count": null,
   "id": "7d5d8e49",
   "metadata": {},
   "outputs": [],
   "source": []
  },
  {
   "cell_type": "code",
   "execution_count": null,
   "id": "533ecc6b",
   "metadata": {},
   "outputs": [],
   "source": []
  },
  {
   "cell_type": "code",
   "execution_count": null,
   "id": "7a2ef049",
   "metadata": {},
   "outputs": [],
   "source": []
  },
  {
   "cell_type": "code",
   "execution_count": null,
   "id": "8c013520",
   "metadata": {},
   "outputs": [],
   "source": []
  }
 ],
 "metadata": {
  "kernelspec": {
   "display_name": "Python 3 (ipykernel)",
   "language": "python",
   "name": "python3"
  },
  "language_info": {
   "codemirror_mode": {
    "name": "ipython",
    "version": 3
   },
   "file_extension": ".py",
   "mimetype": "text/x-python",
   "name": "python",
   "nbconvert_exporter": "python",
   "pygments_lexer": "ipython3",
   "version": "3.9.16"
  }
 },
 "nbformat": 4,
 "nbformat_minor": 5
}
