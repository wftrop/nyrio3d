{
 "cells": [
  {
   "cell_type": "code",
   "execution_count": 266,
   "id": "351a3a76",
   "metadata": {},
   "outputs": [],
   "source": [
    "from gcodeparser import GcodeParser\n"
   ]
  },
  {
   "cell_type": "code",
   "execution_count": 267,
   "id": "f708b1e3",
   "metadata": {},
   "outputs": [],
   "source": [
    "def gcodetri(X):\n",
    "    for i in range (len (X)):\n",
    "        X[i]=X[i].gcode_str\n",
    "        X[i]=X[i].split( )\n",
    "        G,t=X[i],0\n",
    "        for j in range (len (X[i])):\n",
    "            if (t==1):\n",
    "                G.remove(G[l])\n",
    "            elif(G[j]==\";\"):\n",
    "                G.remove(G[j])\n",
    "                t=1\n",
    "                l=j\n",
    "    return (X)"
   ]
  },
  {
   "cell_type": "code",
   "execution_count": 268,
   "id": "b4401811",
   "metadata": {},
   "outputs": [],
   "source": [
    "def MVT(ligne):\n",
    "    X,Y,Z,F,E=-1,-1,-1,-1,-1\n",
    "    if ligne[0]==\"G1\" or ligne[0]==\"G1\":\n",
    "        for j in range (len(ligne)-1):\n",
    "            coord=ligne[j+1]\n",
    "            if coord[0]==\"X\":\n",
    "                X= float(coord.lstrip(coord[0]))\n",
    "            elif coord[0]==\"Y\":\n",
    "                Y= float(coord.lstrip(coord[0]))\n",
    "            elif coord[0]==\"Z\":\n",
    "                Z= float(coord.lstrip(coord[0]))\n",
    "            elif coord[0]==\"F\":\n",
    "                F= float(coord.lstrip(coord[0]))\n",
    "            elif coord[0]==\"E\":\n",
    "                E= float(coord.lstrip(coord[0]))\n",
    "        return(X,Y,Z,F,E)\n",
    "    elif ligne[0]==\"G28\":\n",
    "        X=float(0)\n",
    "        Y=float(0)\n",
    "        Z=float(0)\n",
    "        F=float(1200)\n",
    "        E=float(0)\n",
    "        return(X,Y,Z,F,E)"
   ]
  },
  {
   "cell_type": "code",
   "execution_count": 269,
   "id": "f4f9aeaa",
   "metadata": {},
   "outputs": [],
   "source": [
    "def remplacement(T):\n",
    "    for i in range(len(T)):\n",
    "        if T[i]==-1:\n",
    "            T[i]=T[i-1]\n",
    "    return(T)"
   ]
  },
  {
   "cell_type": "code",
   "execution_count": 270,
   "id": "a1a74044",
   "metadata": {},
   "outputs": [],
   "source": [
    "# open gcode file and store contents as variable\n",
    "with open('cube.gcode', 'r') as f:\n",
    "  gcode = f.read()\n",
    "List,X,Y,Z,E,F=[],[],[],[],[],[]\n",
    "Gcode=GcodeParser(gcode).lines# get parsed gcode link\n",
    "Gcode=gcodetri(Gcode)\n",
    "for i in range (len(Gcode)):\n",
    "    Val=MVT(Gcode[i])\n",
    "    List.append(Val)"
   ]
  },
  {
   "cell_type": "code",
   "execution_count": 271,
   "id": "6183df29",
   "metadata": {},
   "outputs": [],
   "source": [
    "for i in range(len(List)):\n",
    "    if List[i]!=None:\n",
    "        Temp=List[i]\n",
    "        X.append(Temp[0])\n",
    "        Y.append(Temp[1])\n",
    "        Z.append(Temp[2])\n",
    "        F.append(Temp[3])\n",
    "        E.append(Temp[4])"
   ]
  },
  {
   "cell_type": "code",
   "execution_count": 272,
   "id": "127d0daf",
   "metadata": {},
   "outputs": [],
   "source": [
    "X=remplacement(X)\n",
    "Y=remplacement(Y)\n",
    "Z=remplacement(Z)\n",
    "F=remplacement(F)\n",
    "E=remplacement(E)"
   ]
  },
  {
   "cell_type": "code",
   "execution_count": 273,
   "id": "e8eb5f45",
   "metadata": {},
   "outputs": [
    {
     "name": "stdout",
     "output_type": "stream",
     "text": [
      "[0.0, 0.0, 0.0, 20.0, 150.0, 150.0, 20.0, 20.0, 20.0, 20.0, 108.776, 108.623, 108.314, 107.869, 107.808, 107.51, 107.459, 107.16, 106.951, 106.79, 106.664, 106.606, 106.6, 106.639, 106.666, 106.757, 106.971, 107.008, 107.228, 107.274, 107.594, 107.901, 108.23, 108.645, 109.075, 110.799, 111.224, 111.377, 111.686, 112.131, 112.192, 112.49, 112.541, 112.84, 113.049, 113.21, 113.336, 113.394, 113.4, 113.361, 113.334, 113.183, 112.977, 112.757, 112.391, 112.023, 111.682, 111.264, 110.8, 109.3, 108.046, 107.748, 107.491, 107.282, 107.152, 107.048, 107.003, 107.0, 107.037, 107.059, 107.14, 107.33, 107.55, 107.819, 108.126, 108.401, 108.757, 109.124, 110.8, 111.186, 111.304, 111.569, 111.954, 112.252, 112.509, 112.718, 112.848, 112.952, 112.997, 113.0, 112.963, 112.941, 112.805, 112.627, 112.44, 112.169, 111.861, 111.52, 111.164, 110.8, 109.2, 108.814, 108.696, 108.497, 107.644, 107.514, 107.433, 107.401, 107.4, 107.435, 107.451, 107.522, 107.655, 107.831, 108.049, 108.297, 108.572, 108.864, 109.166, 110.8, 111.146, 111.223, 111.449, 111.721, 111.967, 112.182, 112.356, 112.486, 112.567, 112.599, 112.6, 112.565, 112.549, 112.452, 112.31, 112.123, 111.899, 111.644, 111.364, 111.07, 110.8, 109.2, 108.854, 108.777, 108.551, 108.279, 108.033, 107.872, 107.8, 107.833, 107.904, 108.011, 108.152, 108.324, 108.52, 108.736, 108.964, 109.2, 110.8, 111.103, 111.329, 111.539, 111.729, 111.892, 112.024, 112.121, 112.18, 112.2, 112.2, 112.167, 112.096, 111.989, 111.848, 111.676, 111.48, 111.264, 111.036, 110.8, 109.2, 108.897, 108.671, 108.461, 108.271, 108.108, 107.976, 107.879, 107.82, 107.81, 107.81, 107.81, 110.8, 109.2, 109.2, 110.7, 110.462, 109.965, 109.4, 110.6, 110.6, 110.6, 110.6, 110.8, 110.8, 109.2, 109.2, 109.537, 110.034, 110.6, 109.4, 109.4, 109.4, 109.4, 110.8, 109.2, 109.2, 110.7, 110.6, 109.4, 110.53, 109.896, 109.896, 109.896, 109.896, 109.2, 110.8, 110.8, 109.3, 109.774, 109.774, 109.4, 109.4, 109.4, 109.4, 110.8, 109.2, 109.2, 110.7, 110.462, 109.965, 109.4, 110.6, 110.6, 110.6, 110.6, 110.8, 110.8, 109.2, 109.2, 109.537, 110.034, 110.6, 109.4, 109.4, 109.4, 109.4, 110.8, 109.2, 109.2, 110.7, 110.462, 110.6, 109.4, 109.965, 109.965, 109.965, 0.0, 0.0]\n"
     ]
    },
    {
     "data": {
      "text/plain": [
       "267"
      ]
     },
     "execution_count": 273,
     "metadata": {},
     "output_type": "execute_result"
    }
   ],
   "source": [
    "print(X)\n",
    "len(X)"
   ]
  },
  {
   "cell_type": "code",
   "execution_count": null,
   "id": "2ef5ceda",
   "metadata": {},
   "outputs": [],
   "source": []
  },
  {
   "cell_type": "code",
   "execution_count": null,
   "id": "6e271d80",
   "metadata": {},
   "outputs": [],
   "source": []
  }
 ],
 "metadata": {
  "kernelspec": {
   "display_name": "Python 3 (ipykernel)",
   "language": "python",
   "name": "python3"
  },
  "language_info": {
   "codemirror_mode": {
    "name": "ipython",
    "version": 3
   },
   "file_extension": ".py",
   "mimetype": "text/x-python",
   "name": "python",
   "nbconvert_exporter": "python",
   "pygments_lexer": "ipython3",
   "version": "3.10.9"
  }
 },
 "nbformat": 4,
 "nbformat_minor": 5
}
